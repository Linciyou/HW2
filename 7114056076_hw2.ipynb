{
 "cells": [
  {
   "cell_type": "markdown",
   "metadata": {},
   "source": [
    "# 多元線性回歸 — CRISP-DM 全流程\n",
    "\n",
    "> **資料集**：Kaggle Wine Quality（11 個理化特徵）\n",
    "\n",
    "本 Notebook 依照 **CRISP-DM** 流程：Business Understanding → Data Understanding → Data Preparation → Modeling → Evaluation → Deployment。"
   ]
  },
  {
   "cell_type": "markdown",
   "metadata": {},
   "source": [
    "## Business Understanding\n",
    "- 目標：根據葡萄酒理化特徵預測 **品質分數 (quality)**，作為品控或配方參考。\n",
    "- 成功指標：RMSE 降低、R² 提升，並提供預測區間做風險溝通。"
   ]
  },
  {
   "cell_type": "markdown",
   "metadata": {},
   "source": [
    "## Data Understanding\n",
    "- 來源：Kaggle Wine Quality。\n",
    "- 特徵數：11（固定酸度、揮發性酸、檸檬酸、殘糖、氯化物、自由/總二氧化硫、密度、pH、硫酸鹽、酒精）。\n",
    "- 目標：`quality`（0–10 分）。"
   ]
  },
  {
   "cell_type": "code",
   "execution_count": null,
   "metadata": {},
   "outputs": [],
   "source": [
    "# Imports\n",
    "import os, numpy as np, pandas as pd, matplotlib.pyplot as plt\n",
    "from sklearn.model_selection import train_test_split, KFold, cross_val_score\n",
    "from sklearn.linear_model import LinearRegression, LassoCV\n",
    "from sklearn.preprocessing import StandardScaler\n",
    "from sklearn.pipeline import Pipeline\n",
    "from sklearn.metrics import mean_absolute_error, mean_squared_error, r2_score\n",
    "import statsmodels.api as sm\n",
    "import scipy.stats as stats\n",
    "\n",
    "STUDENT_ID = \"7114056076\"  \n",
    "DATA_PATH = \"WineQT.csv\"  \n",
    "TARGET = \"quality\"\n",
    "RANDOM_STATE = 42\n",
    "TEST_SIZE = 0.2\n",
    "OUTPUT_DIR = \"outputs\"\n",
    "os.makedirs(OUTPUT_DIR, exist_ok=True)"
   ]
  },
  {
   "cell_type": "markdown",
   "metadata": {},
   "source": [
    "### 載入與檢視資料"
   ]
  },
  {
   "cell_type": "code",
   "execution_count": null,
   "metadata": {},
   "outputs": [],
   "source": [
    "df = pd.read_csv(DATA_PATH)\n",
    "display(df.head())\n",
    "df.shape"
   ]
  },
  {
   "cell_type": "markdown",
   "metadata": {},
   "source": [
    "### 缺失值、型態與描述統計"
   ]
  },
  {
   "cell_type": "code",
   "execution_count": null,
   "metadata": {},
   "outputs": [],
   "source": [
    "display(df.info())\n",
    "display(df.describe())\n",
    "df.isna().sum()"
   ]
  },
  {
   "cell_type": "markdown",
   "metadata": {},
   "source": [
    "## Data Preparation\n",
    "- 去重與缺失值處理\n",
    "- 僅保留數值欄位\n",
    "- Train/Test 切分"
   ]
  },
  {
   "cell_type": "code",
   "execution_count": null,
   "metadata": {},
   "outputs": [],
   "source": [
    "df = df.drop_duplicates().dropna().reset_index(drop=True)\n",
    "if 'type' in df.columns:\n",
    "    df['type'] = (df['type'].astype(str).str.lower().str.contains('white')).astype(int)\n",
    "num_cols = df.select_dtypes(include=[np.number]).columns.tolist()\n",
    "features = [c for c in num_cols if c != TARGET]\n",
    "X, y = df[features], df[TARGET]\n",
    "X_train, X_test, y_train, y_test = train_test_split(X, y, test_size=TEST_SIZE, random_state=RANDOM_STATE)"
   ]
  },
  {
   "cell_type": "markdown",
   "metadata": {},
   "source": [
    "## Modeling — Baseline 與特徵選擇"
   ]
  },
  {
   "cell_type": "code",
   "execution_count": null,
   "metadata": {},
   "outputs": [],
   "source": [
    "baseline = Pipeline([('scaler', StandardScaler()), ('lr', LinearRegression())])\n",
    "cv = KFold(n_splits=5, shuffle=True, random_state=RANDOM_STATE)\n",
    "import numpy as np\n",
    "rmse_cv = -np.mean(cross_val_score(baseline, X, y, scoring='neg_root_mean_squared_error', cv=cv))\n",
    "rmse_cv"
   ]
  },
  {
   "cell_type": "code",
   "execution_count": null,
   "metadata": {},
   "outputs": [],
   "source": [
    "lasso = Pipeline([('scaler', StandardScaler()), ('lasso', LassoCV(cv=5, random_state=RANDOM_STATE, n_alphas=50))])\n",
    "lasso.fit(X_train, y_train)\n",
    "coefs = lasso.named_steps['lasso'].coef_\n",
    "selected = [f for f, c in zip(features, coefs) if abs(c) > 1e-8]\n",
    "if not selected:\n",
    "    corr = df[features + [TARGET]].corr()[TARGET].abs().drop(TARGET).sort_values(ascending=False)\n",
    "    selected = corr.head(min(6, len(features))).index.tolist()\n",
    "selected"
   ]
  },
  {
   "cell_type": "markdown",
   "metadata": {},
   "source": [
    "### 以 StatsModels OLS 擬合（用於信賴/預測區間）"
   ]
  },
  {
   "cell_type": "code",
   "execution_count": null,
   "metadata": {},
   "outputs": [],
   "source": [
    "X_train_sel = sm.add_constant(X_train[selected], has_constant='add')\n",
    "X_test_sel  = sm.add_constant(X_test[selected], has_constant='add')\n",
    "ols = sm.OLS(y_train, X_train_sel).fit()\n",
    "print(ols.summary().as_text())"
   ]
  },
  {
   "cell_type": "markdown",
   "metadata": {},
   "source": [
    "## Evaluation"
   ]
  },
  {
   "cell_type": "code",
   "execution_count": null,
   "metadata": {},
   "outputs": [],
   "source": [
    "pred_test = ols.predict(X_test_sel)\n",
    "r2 = r2_score(y_test, pred_test)\n",
    "mae = mean_absolute_error(y_test, pred_test)\n",
    "rmse = mean_squared_error(y_test, pred_test, squared=False)\n",
    "r2, mae, rmse"
   ]
  },
  {
   "cell_type": "markdown",
   "metadata": {},
   "source": [
    "### 預測圖（含 95% 預測區間）"
   ]
  },
  {
   "cell_type": "code",
   "execution_count": null,
   "metadata": {},
   "outputs": [],
   "source": [
    "pred_res = ols.get_prediction(X_test_sel).summary_frame(alpha=0.05)\n",
    "plot_df = pd.DataFrame({\n",
    "    'actual': y_test.values,\n",
    "    'pred': pred_res['mean'].values,\n",
    "    'pi_low': pred_res['obs_ci_lower'].values,\n",
    "    'pi_high': pred_res['obs_ci_upper'].values\n",
    "}).sort_values('pred').reset_index(drop=True)\n",
    "\n",
    "plt.figure(figsize=(9,5))\n",
    "plt.plot(plot_df.index, plot_df['pred'], label='Predicted')\n",
    "plt.fill_between(plot_df.index, plot_df['pi_low'], plot_df['pi_high'], alpha=0.2, label='95% PI')\n",
    "plt.scatter(plot_df.index, plot_df['actual'], s=18, alpha=0.7, label='Actual')\n",
    "plt.title('Predictions with 95% Prediction Interval (Test Set)')\n",
    "plt.xlabel('Sorted Test Samples'); plt.ylabel('quality'); plt.legend(); plt.tight_layout()\n",
    "plt.savefig(os.path.join(OUTPUT_DIR,'predictions_with_PI.png'), dpi=150)\n"
   ]
  },
  {
   "cell_type": "markdown",
   "metadata": {},
   "source": [
    "### 殘差診斷"
   ]
  },
  {
   "cell_type": "code",
   "execution_count": null,
   "metadata": {},
   "outputs": [],
   "source": [
    "residuals = y_test.values - pred_res['mean'].values\n",
    "plt.figure(figsize=(8,4.8))\n",
    "plt.scatter(pred_res['mean'].values, residuals, s=18, alpha=0.7); plt.axhline(0, lw=1)\n",
    "plt.title('Residuals vs Fitted'); plt.xlabel('Fitted'); plt.ylabel('Residuals'); plt.tight_layout()\n",
    "plt.savefig(os.path.join(OUTPUT_DIR,'residuals_vs_fitted.png'), dpi=150)\n",
    "\n",
    "plt.figure(figsize=(8,4.8))\n",
    "import scipy.stats as stats\n",
    "stats.probplot(residuals, dist='norm', plot=plt); plt.title('Residual Q-Q Plot'); plt.tight_layout()\n",
    "plt.savefig(os.path.join(OUTPUT_DIR,'residuals_qq.png'), dpi=150)\n"
   ]
  },
  {
   "cell_type": "markdown",
   "metadata": {},
   "source": [
    "### 單變數線性回歸（可選）"
   ]
  },
  {
   "cell_type": "code",
   "execution_count": null,
   "metadata": {},
   "outputs": [],
   "source": [
    "one_feat = 'alcohol' if 'alcohol' in features else selected[0]\n",
    "X1_train = sm.add_constant(X_train[[one_feat]])\n",
    "X1_test  = sm.add_constant(X_test[[one_feat]])\n",
    "ols1 = sm.OLS(y_train, X1_train).fit()\n",
    "pred1 = ols1.get_prediction(X1_test).summary_frame(alpha=0.05)\n",
    "\n",
    "order = np.argsort(X_test[one_feat].values)\n",
    "x_sorted = X_test[one_feat].values[order]\n",
    "mean_sorted = pred1['mean'].values[order]\n",
    "l_sorted = pred1['mean_ci_lower'].values[order]\n",
    "u_sorted = pred1['mean_ci_upper'].values[order]\n",
    "\n",
    "plt.figure(figsize=(8,4.8))\n",
    "plt.plot(x_sorted, mean_sorted, label='Fitted line')\n",
    "plt.fill_between(x_sorted, l_sorted, u_sorted, alpha=0.2, label='95% CI (mean)')\n",
    "plt.scatter(X_test[one_feat], y_test, s=18, alpha=0.7, label='Actual')\n",
    "plt.title(f'Simple Linear Regression: {one_feat} → {TARGET}')\n",
    "plt.xlabel(one_feat); plt.ylabel(TARGET); plt.legend(); plt.tight_layout()\n",
    "plt.savefig(os.path.join(OUTPUT_DIR, f'SLR_{one_feat}_with_CI.png'), dpi=150)\n"
   ]
  }
 ],
 "metadata": {
  "kernelspec": {
   "display_name": "Python 3",
   "language": "python",
   "name": "python3"
  },
  "language_info": {
   "name": "python",
   "version": "3.11.8"
  }
 },
 "nbformat": 4,
 "nbformat_minor": 5
}
